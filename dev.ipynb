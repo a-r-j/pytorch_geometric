{
 "cells": [
  {
   "cell_type": "code",
   "execution_count": 5,
   "metadata": {},
   "outputs": [],
   "source": [
    "import torch\n",
    "from torchtyping import TensorType\n",
    "\n",
    "from torch_geometric.data import Data, Batch\n",
    "from torch_geometric.tp import Graph, typecheck"
   ]
  },
  {
   "cell_type": "code",
   "execution_count": 11,
   "metadata": {},
   "outputs": [
    {
     "name": "stdout",
     "output_type": "stream",
     "text": [
      "Data(x=[1, 2, 3])\n"
     ]
    }
   ],
   "source": [
    "d = Data()\n",
    "d.x = torch.randn((1,2,3))\n",
    "\n",
    "@typecheck\n",
    "def forward(d: Graph[\"x\": torch.Tensor]):\n",
    "    print(d)\n",
    "\n",
    "forward(d)"
   ]
  },
  {
   "cell_type": "code",
   "execution_count": 18,
   "metadata": {},
   "outputs": [
    {
     "ename": "TypeError",
     "evalue": "<class 'str'> is not a subtype of <class 'torch.Tensor'> for graph attribute x",
     "output_type": "error",
     "traceback": [
      "\u001b[0;31m---------------------------------------------------------------------------\u001b[0m",
      "\u001b[0;31mTypeError\u001b[0m                                 Traceback (most recent call last)",
      "Cell \u001b[0;32mIn [18], line 10\u001b[0m\n\u001b[1;32m      7\u001b[0m     \u001b[38;5;28mprint\u001b[39m(d)\n\u001b[1;32m      9\u001b[0m \u001b[38;5;66;03m# Raises TypeError as \"x\" is not a tensor\u001b[39;00m\n\u001b[0;32m---> 10\u001b[0m forward(d)\n",
      "File \u001b[0;32m~/github/pytorch_geometric/torch_geometric/tp.py:78\u001b[0m, in \u001b[0;36mtypecheck.<locals>.wrapper\u001b[0;34m(*args, **kwargs)\u001b[0m\n\u001b[1;32m     75\u001b[0m                 \u001b[39m# Otherwise just check type\u001b[39;00m\n\u001b[1;32m     76\u001b[0m                 \u001b[39melse\u001b[39;00m:\n\u001b[1;32m     77\u001b[0m                     \u001b[39mif\u001b[39;00m \u001b[39mnot\u001b[39;00m np\u001b[39m.\u001b[39missubdtype(dtypes[colname], np\u001b[39m.\u001b[39mdtype(dt)):\n\u001b[0;32m---> 78\u001b[0m                         \u001b[39mraise\u001b[39;00m \u001b[39mTypeError\u001b[39;00m(\n\u001b[1;32m     79\u001b[0m                             \u001b[39mf\u001b[39m\u001b[39m\"\u001b[39m\u001b[39m{\u001b[39;00mdtypes[colname]\u001b[39m}\u001b[39;00m\u001b[39m is not a subtype of \u001b[39m\u001b[39m{\u001b[39;00mdt\u001b[39m}\u001b[39;00m\u001b[39m for graph attribute \u001b[39m\u001b[39m{\u001b[39;00mcolname\u001b[39m}\u001b[39;00m\u001b[39m\"\u001b[39m\n\u001b[1;32m     80\u001b[0m                         )\n\u001b[1;32m     82\u001b[0m \u001b[39mreturn\u001b[39;00m f(\u001b[39m*\u001b[39margs, \u001b[39m*\u001b[39m\u001b[39m*\u001b[39mkwargs)\n",
      "\u001b[0;31mTypeError\u001b[0m: <class 'str'> is not a subtype of <class 'torch.Tensor'> for graph attribute x"
     ]
    }
   ],
   "source": [
    "d = Data()\n",
    "d.x = \"test\"\n",
    "\n",
    "@typecheck\n",
    "def forward(d: Graph[\"x\": torch.Tensor]):\n",
    "    print(d)\n",
    "\n",
    "# Raises TypeError as \"x\" is not a tensor\n",
    "forward(d)"
   ]
  },
  {
   "cell_type": "code",
   "execution_count": 19,
   "metadata": {},
   "outputs": [
    {
     "ename": "TypeError",
     "evalue": "d Data attributes {'x', 'y'} do not match required set {'x'}",
     "output_type": "error",
     "traceback": [
      "\u001b[0;31m---------------------------------------------------------------------------\u001b[0m",
      "\u001b[0;31mTypeError\u001b[0m                                 Traceback (most recent call last)",
      "Cell \u001b[0;32mIn [19], line 10\u001b[0m\n\u001b[1;32m      7\u001b[0m     \u001b[38;5;28mprint\u001b[39m(d)\n\u001b[1;32m      9\u001b[0m \u001b[38;5;66;03m# Raises TypeError as we specify the data should only contain the tensor \"x\"\u001b[39;00m\n\u001b[0;32m---> 10\u001b[0m forward(d)\n",
      "File \u001b[0;32m~/github/pytorch_geometric/torch_geometric/tp.py:51\u001b[0m, in \u001b[0;36mtypecheck.<locals>.wrapper\u001b[0;34m(*args, **kwargs)\u001b[0m\n\u001b[1;32m     46\u001b[0m attributes \u001b[39m=\u001b[39m value\u001b[39m.\u001b[39m_store\n\u001b[1;32m     47\u001b[0m \u001b[39mif\u001b[39;00m (\n\u001b[1;32m     48\u001b[0m     hint\u001b[39m.\u001b[39mcheck_only_specified\n\u001b[1;32m     49\u001b[0m     \u001b[39mand\u001b[39;00m \u001b[39mset\u001b[39m(attributes\u001b[39m.\u001b[39mkeys()) \u001b[39m!=\u001b[39m hint\u001b[39m.\u001b[39mattributes\n\u001b[1;32m     50\u001b[0m ):\n\u001b[0;32m---> 51\u001b[0m     \u001b[39mraise\u001b[39;00m \u001b[39mTypeError\u001b[39;00m(\n\u001b[1;32m     52\u001b[0m         \u001b[39mf\u001b[39m\u001b[39m\"\u001b[39m\u001b[39m{\u001b[39;00margument_name\u001b[39m}\u001b[39;00m\u001b[39m Data attributes \u001b[39m\u001b[39m{\u001b[39;00m\u001b[39mset\u001b[39m(attributes\u001b[39m.\u001b[39mkeys())\u001b[39m}\u001b[39;00m\u001b[39m do not match required set \u001b[39m\u001b[39m{\u001b[39;00mhint\u001b[39m.\u001b[39mattributes\u001b[39m}\u001b[39;00m\u001b[39m\"\u001b[39m\n\u001b[1;32m     53\u001b[0m     )\n\u001b[1;32m     55\u001b[0m \u001b[39mif\u001b[39;00m (\n\u001b[1;32m     56\u001b[0m     \u001b[39mnot\u001b[39;00m hint\u001b[39m.\u001b[39mcheck_only_specified\n\u001b[1;32m     57\u001b[0m     \u001b[39mand\u001b[39;00m \u001b[39mnot\u001b[39;00m hint\u001b[39m.\u001b[39mattributes\u001b[39m.\u001b[39missubset(attributes)\n\u001b[1;32m     58\u001b[0m ):\n\u001b[1;32m     59\u001b[0m     \u001b[39mraise\u001b[39;00m \u001b[39mTypeError\u001b[39;00m(\n\u001b[1;32m     60\u001b[0m         \u001b[39mf\u001b[39m\u001b[39m\"\u001b[39m\u001b[39m{\u001b[39;00margument_name\u001b[39m}\u001b[39;00m\u001b[39m is missing some attributes from \u001b[39m\u001b[39m{\u001b[39;00mhint\u001b[39m.\u001b[39mattributes\u001b[39m}\u001b[39;00m\u001b[39m\"\u001b[39m\n\u001b[1;32m     61\u001b[0m     )\n",
      "\u001b[0;31mTypeError\u001b[0m: d Data attributes {'x', 'y'} do not match required set {'x'}"
     ]
    }
   ],
   "source": [
    "d = Data()\n",
    "d.x = torch.randn((1,2,3))\n",
    "d.y = \"testing\"\n",
    "\n",
    "@typecheck\n",
    "def forward(d: Graph[\"x\": torch.Tensor]):\n",
    "    print(d)\n",
    "\n",
    "# Raises TypeError as we specify the data should only contain the tensor \"x\"\n",
    "forward(d)"
   ]
  },
  {
   "cell_type": "code",
   "execution_count": 20,
   "metadata": {},
   "outputs": [
    {
     "name": "stdout",
     "output_type": "stream",
     "text": [
      "Data(x=[1, 2, 3], y='testing')\n"
     ]
    }
   ],
   "source": [
    "d = Data()\n",
    "d.x = torch.randn((1,2,3))\n",
    "d.y = \"testing\"\n",
    "\n",
    "@typecheck\n",
    "def forward(d: Graph[\"x\": torch.Tensor, ...]):\n",
    "    print(d)\n",
    "\n",
    "# Specify only some args with ...\n",
    "forward(d)"
   ]
  },
  {
   "cell_type": "code",
   "execution_count": 23,
   "metadata": {},
   "outputs": [
    {
     "name": "stdout",
     "output_type": "stream",
     "text": [
      "Data(x=[1, 2, 3], y='testing')\n"
     ]
    }
   ],
   "source": [
    "d = Data()\n",
    "d.x = torch.randn((1,2,3))\n",
    "d.y = \"testing\"\n",
    "\n",
    "@typecheck\n",
    "def forward(d: Graph[\"x\": TensorType[-1, -1, 3], ...]):\n",
    "    print(d)\n",
    "\n",
    "# Our tensor is of the right shape!\n",
    "forward(d)"
   ]
  },
  {
   "cell_type": "code",
   "execution_count": 24,
   "metadata": {},
   "outputs": [
    {
     "ename": "TypeError",
     "evalue": "x must be of type TensorType[-1, 20, 3], got type TensorType[1, 2, 3] instead.",
     "output_type": "error",
     "traceback": [
      "\u001b[0;31m---------------------------------------------------------------------------\u001b[0m",
      "\u001b[0;31mTypeError\u001b[0m                                 Traceback (most recent call last)",
      "Cell \u001b[0;32mIn [24], line 10\u001b[0m\n\u001b[1;32m      7\u001b[0m     \u001b[38;5;28mprint\u001b[39m(d)\n\u001b[1;32m      9\u001b[0m \u001b[38;5;66;03m# Raises TypeError as the tensor \"x\" is of the wrong shape\u001b[39;00m\n\u001b[0;32m---> 10\u001b[0m forward(d)\n",
      "File \u001b[0;32m~/github/pytorch_geometric/torch_geometric/tp.py:73\u001b[0m, in \u001b[0;36mtypecheck.<locals>.wrapper\u001b[0;34m(*args, **kwargs)\u001b[0m\n\u001b[1;32m     71\u001b[0m         \u001b[39mif\u001b[39;00m \u001b[39misinstance\u001b[39m(metadata, \u001b[39mdict\u001b[39m) \u001b[39mand\u001b[39;00m \u001b[39m\"\u001b[39m\u001b[39m__torchtyping__\u001b[39m\u001b[39m\"\u001b[39m \u001b[39min\u001b[39;00m metadata:\n\u001b[1;32m     72\u001b[0m             \u001b[39mbreak\u001b[39;00m\n\u001b[0;32m---> 73\u001b[0m     _check_tensor(colname, value\u001b[39m.\u001b[39;49m_store[colname],\n\u001b[1;32m     74\u001b[0m                   base_cls, metadata)\n\u001b[1;32m     75\u001b[0m \u001b[39m# Otherwise just check type\u001b[39;00m\n\u001b[1;32m     76\u001b[0m \u001b[39melse\u001b[39;00m:\n\u001b[1;32m     77\u001b[0m     \u001b[39mif\u001b[39;00m \u001b[39mnot\u001b[39;00m np\u001b[39m.\u001b[39missubdtype(dtypes[colname], np\u001b[39m.\u001b[39mdtype(dt)):\n",
      "File \u001b[0;32m~/opt/anaconda3/envs/pyg/lib/python3.8/site-packages/torchtyping/typechecker.py:84\u001b[0m, in \u001b[0;36m_check_tensor\u001b[0;34m(argname, value, origin, metadata)\u001b[0m\n\u001b[1;32m     82\u001b[0m     \u001b[39melse\u001b[39;00m:\n\u001b[1;32m     83\u001b[0m         given_string \u001b[39m=\u001b[39m \u001b[39mrepr\u001b[39m(value)\n\u001b[0;32m---> 84\u001b[0m \u001b[39mraise\u001b[39;00m \u001b[39mTypeError\u001b[39;00m(\n\u001b[1;32m     85\u001b[0m     \u001b[39mf\u001b[39m\u001b[39m\"\u001b[39m\u001b[39m{\u001b[39;00margname\u001b[39m}\u001b[39;00m\u001b[39m must be of type \u001b[39m\u001b[39m{\u001b[39;00mexpected_string\u001b[39m}\u001b[39;00m\u001b[39m, got type \u001b[39m\u001b[39m{\u001b[39;00mgiven_string\u001b[39m}\u001b[39;00m\u001b[39m \u001b[39m\u001b[39m\"\u001b[39m\n\u001b[1;32m     86\u001b[0m     \u001b[39m\"\u001b[39m\u001b[39minstead.\u001b[39m\u001b[39m\"\u001b[39m\n\u001b[1;32m     87\u001b[0m )\n",
      "\u001b[0;31mTypeError\u001b[0m: x must be of type TensorType[-1, 20, 3], got type TensorType[1, 2, 3] instead."
     ]
    }
   ],
   "source": [
    "d = Data()\n",
    "d.x = torch.randn((1,2,3))\n",
    "d.y = \"testing\"\n",
    "\n",
    "@typecheck\n",
    "def forward(d: Graph[\"x\": TensorType[-1, 20, 3], ...]):\n",
    "    print(d)\n",
    "\n",
    "# Raises TypeError as the tensor \"x\" is of the wrong shape\n",
    "forward(d)"
   ]
  },
  {
   "cell_type": "code",
   "execution_count": 27,
   "metadata": {},
   "outputs": [
    {
     "name": "stdout",
     "output_type": "stream",
     "text": [
      "DataBatch(x=[1, 2, 3], y=[1], batch=[1], ptr=[2])\n"
     ]
    }
   ],
   "source": [
    "# Equivalent for Batches\n",
    "from torch_geometric.tp import GraphBatch\n",
    "\n",
    "d = Data()\n",
    "d.x = torch.randn((1,2,3))\n",
    "d.y = \"testing\"\n",
    "\n",
    "@typecheck\n",
    "def forward(d: GraphBatch[\"x\": TensorType[-1, -1, 3], ...]):\n",
    "    print(d)\n",
    "\n",
    "b = Batch.from_data_list([d])\n",
    "\n",
    "forward(b)"
   ]
  }
 ],
 "metadata": {
  "kernelspec": {
   "display_name": "Python 3.8.13 ('pyg')",
   "language": "python",
   "name": "python3"
  },
  "language_info": {
   "codemirror_mode": {
    "name": "ipython",
    "version": 3
   },
   "file_extension": ".py",
   "mimetype": "text/x-python",
   "name": "python",
   "nbconvert_exporter": "python",
   "pygments_lexer": "ipython3",
   "version": "3.8.13"
  },
  "orig_nbformat": 4,
  "vscode": {
   "interpreter": {
    "hash": "6a29119e2a2336ae8c478512e83e4673d51f34f7b429e716a7f20209be4ef209"
   }
  }
 },
 "nbformat": 4,
 "nbformat_minor": 2
}
